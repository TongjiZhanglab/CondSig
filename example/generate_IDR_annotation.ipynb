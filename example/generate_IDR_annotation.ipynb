{
 "cells": [
  {
   "cell_type": "code",
   "execution_count": 1,
   "metadata": {},
   "outputs": [],
   "source": [
    "import os,sys\n",
    "import json\n",
    "import subprocess\n",
    "import pandas as pd\n",
    "import numpy as np"
   ]
  },
  {
   "cell_type": "code",
   "execution_count": 2,
   "metadata": {},
   "outputs": [],
   "source": [
    "def mobidb_lite_prediction(indir, uid):\n",
    "    \"\"\"prediction use mobidb-lite\"\"\"\n",
    "    cmd = \"python /mnt/Storage/home/yuzhaowei/software/mobidb-lite/mobidb-lite.py -bin /mnt/Storage/home/yuzhaowei/software/mobidb-lite/binx -t 7 -o {0}_mobidb_lite.json -l {1}/{0}.fasta\" . format(uid, indir)\n",
    "    # print(cmd)\n",
    "    # subprocess.run(cmd, check = True, shell = True)\n",
    "    return(cmd)\n",
    "\n",
    "def mobidb_lite_summary(uid):\n",
    "    \"\"\"summarized all mobidb lite prediction result\"\"\"\n",
    "    \n",
    "    inf = open(\"{0}_mobidb_lite.json\" . format(uid), \"r\")\n",
    "    print(uid)\n",
    "    try:\n",
    "        dict_json = json.load(inf)\n",
    "        regions = dict_json[\"regions\"]\n",
    "        IDR_region = 0\n",
    "        for region in regions:\n",
    "            IDR_region += (region[1] - region[0])\n",
    "        IDR_content = IDR_region / len(dict_json[\"p\"]) # resiudes in IDR region / all resiudes\n",
    "        print(IDR_content)\n",
    "    except:\n",
    "        IDR_content = 0\n",
    "\n",
    "    return(IDR_content)"
   ]
  },
  {
   "attachments": {},
   "cell_type": "markdown",
   "metadata": {},
   "source": [
    "### IDR prediction for transcription regulators in human"
   ]
  },
  {
   "cell_type": "code",
   "execution_count": 3,
   "metadata": {},
   "outputs": [],
   "source": [
    "indir = \"/mnt/Storage/home/yuzhaowei/projects/Factor.Harbor/data/public/ProteinSequence/Human\"\n",
    "df_human_uniprot = pd.read_csv(\"{0}/CistromeDB_human_factor_uniprot.txt\" . format(indir), header = 0, sep = \"\\t\")\n",
    "human_uids = df_human_uniprot.loc[:, \"uniprot_id\"].values\n",
    "outf = open(\"human_IDR_prediction.sh\", \"w\")\n",
    "outf.write(\"source ~/anaconda3/bin/activate py27 \\n\")\n",
    "for uid in human_uids:\n",
    "    if uid != \"None\":\n",
    "        cmd = mobidb_lite_prediction(indir, uid)\n",
    "        outf.write(cmd + \"\\n\")\n",
    "outf.close()"
   ]
  },
  {
   "cell_type": "code",
   "execution_count": 4,
   "metadata": {},
   "outputs": [],
   "source": [
    "%%bash\n",
    "\n",
    "bash human_IDR_prediction.sh"
   ]
  },
  {
   "cell_type": "code",
   "execution_count": 1,
   "metadata": {},
   "outputs": [],
   "source": [
    "outf2 = open(\"human_MobiDB_lite.txt\", \"w\")\n",
    "for uid in np.unique(human_uids):\n",
    "    if uid != \"None\":\n",
    "        outf2.write(\"{0}\\t{1}\\n\".format(uid, mobidb_lite_summary(uid)))\n",
    "outf2.close()"
   ]
  },
  {
   "attachments": {},
   "cell_type": "markdown",
   "metadata": {},
   "source": [
    "### IDR prediction for transcription regulators in mouse"
   ]
  },
  {
   "cell_type": "code",
   "execution_count": 5,
   "metadata": {},
   "outputs": [],
   "source": [
    "indir = \"/mnt/Storage/home/yuzhaowei/projects/Factor.Harbor/data/public/ProteinSequence/Mouse\"\n",
    "df_mouse_uniprot = pd.read_csv(\"{0}/CistromeDB_mouse_factor_uniprot.txt\" . format(indir), header = 0, sep = \"\\t\")\n",
    "mouse_uids = df_mouse_uniprot.loc[:, \"uniprot_id\"].values\n",
    "outf = open(\"mouse_IDR_prediction.sh\", \"w\")\n",
    "outf.write(\"source ~/anaconda3/bin/activate py27 \\n\")\n",
    "for uid in mouse_uids:\n",
    "    if uid != \"None\":\n",
    "        cmd = mobidb_lite_prediction(indir, uid)\n",
    "        outf.write(cmd + \"\\n\")\n",
    "outf.close()"
   ]
  },
  {
   "cell_type": "code",
   "execution_count": 2,
   "metadata": {},
   "outputs": [],
   "source": [
    "%%bash\n",
    "\n",
    "bash mouse_IDR_prediction.sh"
   ]
  },
  {
   "cell_type": "code",
   "execution_count": 3,
   "metadata": {},
   "outputs": [],
   "source": [
    "outf2 = open(\"mouse_MobiDB_lite.txt\", \"w\")\n",
    "for uid in np.unique(mouse_uids):\n",
    "    if uid != \"None\":\n",
    "        outf2.write(\"{0}\\t{1}\\n\".format(uid, mobidb_lite_summary(uid)))\n",
    "outf2.close()"
   ]
  },
  {
   "attachments": {},
   "cell_type": "markdown",
   "metadata": {},
   "source": [
    "### summary"
   ]
  },
  {
   "cell_type": "code",
   "execution_count": 1,
   "metadata": {},
   "outputs": [],
   "source": [
    "import matplotlib\n",
    "import matplotlib.pyplot as plt\n",
    "import seaborn as sns\n",
    "# sns.set_style(\"ticks\")\n",
    "\n",
    "from matplotlib import cm\n",
    "\n",
    "matplotlib.rcParams['font.sans-serif'] = \"Helvetica\"\n",
    "plt.rcParams['pdf.fonttype'] = 42\n",
    "plt.rcParams['ps.fonttype'] = 42\n",
    "\n",
    "%matplotlib inline"
   ]
  },
  {
   "cell_type": "code",
   "execution_count": 8,
   "metadata": {},
   "outputs": [
    {
     "name": "stdout",
     "output_type": "stream",
     "text": [
      "      UID  fraction\n",
      "0  A0AVK6  0.181084\n",
      "1  A0PJY2  0.098947\n",
      "2  A2RRD8  0.000000\n",
      "3  A6H8Y1  0.409680\n",
      "4  A6NHJ4  0.000000\n",
      "          UID  fraction\n",
      "0  A0A087WPF7  0.659794\n",
      "1  A0A2R8VHR8  0.000000\n",
      "2      A2A5K6  0.278235\n",
      "3      A2A935  0.237647\n",
      "4      A2A9I7  0.376045\n"
     ]
    }
   ],
   "source": [
    "import pandas as pd\n",
    "df_human_mobidb = pd.read_csv(\"human_MobiDB_lite.txt\", header = None, sep = \"\\t\")\n",
    "df_human_mobidb.columns = [\"UID\", \"fraction\"]\n",
    "print(df_human_mobidb.head())\n",
    "df_mouse_mobidb = pd.read_csv(\"mouse_MobiDB_lite.txt\", header = None, sep = \"\\t\")\n",
    "df_mouse_mobidb.columns = [\"UID\", \"fraction\"]\n",
    "print(df_mouse_mobidb.head())"
   ]
  },
  {
   "cell_type": "code",
   "execution_count": 25,
   "metadata": {},
   "outputs": [
    {
     "data": {
      "image/png": "[encoded data removed]",
      "text/plain": [
       "<Figure size 720x360 with 2 Axes>"
      ]
     },
     "metadata": {
      "needs_background": "light"
     },
     "output_type": "display_data"
    }
   ],
   "source": [
    "fig, axs = plt.subplots(figsize = (10, 5), nrows = 1, ncols = 2)\n",
    "sns.histplot(data = df_human_mobidb, x = \"fraction\", kde = True, color = \"#CE0013\", edgecolor = \"white\", ax = axs[0])\n",
    "sns.histplot(data = df_mouse_mobidb, x = \"fraction\", kde = True, color = \"#16557A\", edgecolor = \"white\", ax = axs[1])\n",
    "axs[0].set_xlabel(\"Fraction of IDR\")\n",
    "axs[1].set_xlabel(\"Fraction of IDR\")\n",
    "axs[0].set_title(\"CAPs (Human)\")\n",
    "axs[1].set_title(\"CAPs (Mouse)\")\n",
    "\n",
    "plt.subplots_adjust(left = 0.25, bottom = 0.3, wspace = 0.4)\n",
    "fig.savefig(\"CAP_IDR_fraction_distribution.pdf\")"
   ]
  },
  {
   "attachments": {},
   "cell_type": "markdown",
   "metadata": {},
   "source": [
    "### IDR percentage of known LLPS protein"
   ]
  },
  {
   "cell_type": "code",
   "execution_count": 36,
   "metadata": {},
   "outputs": [],
   "source": [
    "df_LLPS_human = pd.read_csv(\"../../LLPS/LLPS_human_merged.txt\", header = 0, sep = \"\\t\")\n",
    "CAP_LLPS_human = np.unique(df_LLPS_human.loc[:, \"UniProt ID\"].values)\n",
    "df_CAP_LLPS_human_mobidb_fraction = df_human_mobidb.loc[df_human_mobidb[\"UID\"].isin(CAP_LLPS_human), :]"
   ]
  },
  {
   "cell_type": "code",
   "execution_count": 37,
   "metadata": {},
   "outputs": [
    {
     "data": {
      "text/html": [
       "<div>\n",
       "<style scoped>\n",
       "    .dataframe tbody tr th:only-of-type {\n",
       "        vertical-align: middle;\n",
       "    }\n",
       "\n",
       "    .dataframe tbody tr th {\n",
       "        vertical-align: top;\n",
       "    }\n",
       "\n",
       "    .dataframe thead th {\n",
       "        text-align: right;\n",
       "    }\n",
       "</style>\n",
       "<table border=\"1\" class=\"dataframe\">\n",
       "  <thead>\n",
       "    <tr style=\"text-align: right;\">\n",
       "      <th></th>\n",
       "      <th>UID</th>\n",
       "      <th>fraction</th>\n",
       "    </tr>\n",
       "  </thead>\n",
       "  <tbody>\n",
       "    <tr>\n",
       "      <th>7</th>\n",
       "      <td>Q9UKV8</td>\n",
       "      <td>0.030268</td>\n",
       "    </tr>\n",
       "    <tr>\n",
       "      <th>39</th>\n",
       "      <td>Q6VMQ6</td>\n",
       "      <td>0.504724</td>\n",
       "    </tr>\n",
       "    <tr>\n",
       "      <th>41</th>\n",
       "      <td>P46100</td>\n",
       "      <td>0.486758</td>\n",
       "    </tr>\n",
       "    <tr>\n",
       "      <th>55</th>\n",
       "      <td>Q9H165</td>\n",
       "      <td>0.335329</td>\n",
       "    </tr>\n",
       "    <tr>\n",
       "      <th>66</th>\n",
       "      <td>P15056</td>\n",
       "      <td>0.238903</td>\n",
       "    </tr>\n",
       "    <tr>\n",
       "      <th>...</th>\n",
       "      <td>...</td>\n",
       "      <td>...</td>\n",
       "    </tr>\n",
       "    <tr>\n",
       "      <th>958</th>\n",
       "      <td>Q9H0D6</td>\n",
       "      <td>0.146316</td>\n",
       "    </tr>\n",
       "    <tr>\n",
       "      <th>959</th>\n",
       "      <td>P46937</td>\n",
       "      <td>0.380952</td>\n",
       "    </tr>\n",
       "    <tr>\n",
       "      <th>962</th>\n",
       "      <td>P25490</td>\n",
       "      <td>0.227053</td>\n",
       "    </tr>\n",
       "    <tr>\n",
       "      <th>1056</th>\n",
       "      <td>O43670</td>\n",
       "      <td>0.527197</td>\n",
       "    </tr>\n",
       "    <tr>\n",
       "      <th>1109</th>\n",
       "      <td>Q9H4Z2</td>\n",
       "      <td>0.280179</td>\n",
       "    </tr>\n",
       "  </tbody>\n",
       "</table>\n",
       "<p>110 rows × 2 columns</p>\n",
       "</div>"
      ],
      "text/plain": [
       "         UID  fraction\n",
       "7     Q9UKV8  0.030268\n",
       "39    Q6VMQ6  0.504724\n",
       "41    P46100  0.486758\n",
       "55    Q9H165  0.335329\n",
       "66    P15056  0.238903\n",
       "...      ...       ...\n",
       "958   Q9H0D6  0.146316\n",
       "959   P46937  0.380952\n",
       "962   P25490  0.227053\n",
       "1056  O43670  0.527197\n",
       "1109  Q9H4Z2  0.280179\n",
       "\n",
       "[110 rows x 2 columns]"
      ]
     },
     "execution_count": 37,
     "metadata": {},
     "output_type": "execute_result"
    }
   ],
   "source": [
    "df_CAP_LLPS_human_mobidb_fraction"
   ]
  },
  {
   "cell_type": "code",
   "execution_count": 62,
   "metadata": {},
   "outputs": [
    {
     "data": {
      "text/plain": [
       "<matplotlib.lines.Line2D at 0x7f3604098610>"
      ]
     },
     "execution_count": 62,
     "metadata": {},
     "output_type": "execute_result"
    },
    {
     "data": {
      "image/png": "[encoded data removed]",
      "text/plain": [
       "<Figure size 720x360 with 2 Axes>"
      ]
     },
     "metadata": {
      "needs_background": "light"
     },
     "output_type": "display_data"
    }
   ],
   "source": [
    "fig, axs = plt.subplots(figsize = (10, 5), nrows = 1, ncols = 2)\n",
    "sns.histplot(data = df_human_mobidb, x = \"fraction\", kde = True, color = \"#CE0013\", edgecolor = \"white\", ax = axs[0])\n",
    "sns.histplot(data = df_CAP_LLPS_human_mobidb_fraction, x = \"fraction\", kde = True, color = \"#CE0013\", \n",
    "             binwidth = 0.05, edgecolor = \"white\", ax = axs[1])\n",
    "\n",
    "axs[0].axvline(x = 0.153, color = \"grey\", linewidth = 2, linestyle = \"--\")\n",
    "axs[1].axvline(x = 0.153, color = \"grey\", linewidth = 2, linestyle = \"--\")"
   ]
  },
  {
   "cell_type": "code",
   "execution_count": 64,
   "metadata": {},
   "outputs": [
    {
     "data": {
      "text/plain": [
       "<matplotlib.lines.Line2D at 0x7f3603df8250>"
      ]
     },
     "execution_count": 64,
     "metadata": {},
     "output_type": "execute_result"
    },
    {
     "data": {
      "image/png": "[encoded data removed]",
      "text/plain": [
       "<Figure size 720x360 with 2 Axes>"
      ]
     },
     "metadata": {
      "needs_background": "light"
     },
     "output_type": "display_data"
    }
   ],
   "source": [
    "fig, axs = plt.subplots(figsize = (10, 5), nrows = 1, ncols = 2)\n",
    "sns.histplot(data = df_mouse_mobidb, x = \"fraction\", kde = True, color = \"#16557A\", edgecolor = \"white\", ax = axs[0])\n",
    "\n",
    "axs[0].axvline(x = 0.153, color = \"grey\", linewidth = 2, linestyle = \"--\")\n",
    "axs[1].axvline(x = 0.153, color = \"grey\", linewidth = 2, linestyle = \"--\")"
   ]
  },
  {
   "cell_type": "code",
   "execution_count": 61,
   "metadata": {},
   "outputs": [
    {
     "data": {
      "text/plain": [
       "array([0.        , 0.15300979, 0.25773035, 0.38527134, 0.93884409])"
      ]
     },
     "execution_count": 61,
     "metadata": {},
     "output_type": "execute_result"
    }
   ],
   "source": [
    "np.quantile(df_CAP_LLPS_human_mobidb_fraction.loc[:,\"fraction\"], q = np.linspace(0,1,5))"
   ]
  }
 ],
 "metadata": {
  "kernelspec": {
   "display_name": "Python 3 (ipykernel)",
   "language": "python",
   "name": "python3"
  },
  "language_info": {
   "codemirror_mode": {
    "name": "ipython",
    "version": 3
   },
   "file_extension": ".py",
   "mimetype": "text/x-python",
   "name": "python",
   "nbconvert_exporter": "python",
   "pygments_lexer": "ipython3",
   "version": "3.10.6"
  },
  "toc": {
   "base_numbering": 1,
   "nav_menu": {},
   "number_sections": true,
   "sideBar": true,
   "skip_h1_title": false,
   "title_cell": "Table of Contents",
   "title_sidebar": "Contents",
   "toc_cell": false,
   "toc_position": {},
   "toc_section_display": true,
   "toc_window_display": false
  }
 },
 "nbformat": 4,
 "nbformat_minor": 4
}
