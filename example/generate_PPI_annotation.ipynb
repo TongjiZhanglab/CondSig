{
 "cells": [
  {
   "cell_type": "code",
   "execution_count": 6,
   "id": "30536266",
   "metadata": {},
   "outputs": [],
   "source": [
    "import pandas as pd\n",
    "import numpy as np"
   ]
  },
  {
   "attachments": {},
   "cell_type": "markdown",
   "id": "3018c26e",
   "metadata": {},
   "source": [
    "## Protein-protein interaction in human"
   ]
  },
  {
   "cell_type": "code",
   "execution_count": 7,
   "id": "95d4017a",
   "metadata": {},
   "outputs": [],
   "source": [
    "# BioGRID\n",
    "df_BioGRID = pd.read_csv(\"~/projects/Factor.Harbor/data/public/PPI/BioGRID/BioGRID_PPI_filtered_human.txt\", header = 0, sep = \"\\t\")\n",
    "df_BioGRID_filtered = df_BioGRID.loc[:, [\"SWISS-PROT Accessions Interactor A\", \"SWISS-PROT Accessions Interactor B\"]]\n",
    "df_BioGRID_filtered = df_BioGRID_filtered.loc[df_BioGRID_filtered[\"SWISS-PROT Accessions Interactor A\"] != df_BioGRID_filtered[\"SWISS-PROT Accessions Interactor B\"], :] # remove the same factor PPI\n",
    "paired_labels = df_BioGRID_filtered.apply(lambda x:\"$\".join(np.sort(x)), 1).values\n",
    "df_BioGRID_filtered.loc[:, \"label\"] = paired_labels\n",
    "df_BioGRID_unique = df_BioGRID_filtered.drop_duplicates(\"label\", keep = \"first\")\n",
    "\n",
    "# MINT\n",
    "df_MINT = pd.read_csv(\"MINT/MINT_PPI_filtered_human.txt\", header = 0, sep = \"\\t\")\n",
    "df_MINT_filtered = df_MINT.loc[df_MINT[\"interactor_a\"] != df_MINT[\"interactor_b\"], [\"interactor_a\", \"interactor_b\"]]\n",
    "paired_labels = df_MINT_filtered.apply(lambda x:\"$\".join(np.sort(x)), 1).values\n",
    "df_MINT_filtered.loc[:, \"label\"] = paired_labels\n",
    "df_MINT_unique = df_MINT_filtered.drop_duplicates(\"label\", keep = \"first\")\n",
    "df_MINT_unique.columns = [\"SWISS-PROT Accessions Interactor A\", \"SWISS-PROT Accessions Interactor B\", \"label\"]\n",
    "\n",
    "# IntAct \n",
    "df_IntAct = pd.read_csv(\"IntAct/IntAct_PPI_human_filtered.txt\", header = 0, sep = \"\\t\")\n",
    "df_IntAct_filtered = df_IntAct.loc[df_IntAct[\"SWISS-PROT Accessions Interactor A\"] != df_IntAct[\"SWISS-PROT Accessions Interactor B\"], [\"SWISS-PROT Accessions Interactor A\", \"SWISS-PROT Accessions Interactor B\"]]\n",
    "paired_labels = df_IntAct_filtered.apply(lambda x:\"$\".join(np.sort(x)), 1).values\n",
    "df_IntAct_filtered.loc[:, \"label\"] = paired_labels\n",
    "df_IntAct_unique = df_IntAct_filtered.drop_duplicates(\"label\", keep = \"first\")\n",
    "\n",
    "df_PPI_merged = pd.concat([df_BioGRID_unique, df_MINT_unique, df_IntAct_unique])\n",
    "df_PPI_merged_unique = df_PPI_merged.drop_duplicates(\"label\", keep = \"first\")"
   ]
  },
  {
   "cell_type": "code",
   "execution_count": 8,
   "id": "27cbf8a9",
   "metadata": {},
   "outputs": [
    {
     "name": "stderr",
     "output_type": "stream",
     "text": [
      "/mnt/Storage/home/yuzhaowei/anaconda3/envs/py37/lib/python3.7/site-packages/pandas/core/indexing.py:1951: SettingWithCopyWarning: \n",
      "A value is trying to be set on a copy of a slice from a DataFrame.\n",
      "Try using .loc[row_indexer,col_indexer] = value instead\n",
      "\n",
      "See the caveats in the documentation: https://pandas.pydata.org/pandas-docs/stable/user_guide/indexing.html#returning-a-view-versus-a-copy\n",
      "  self.obj[selected_item_labels] = value\n"
     ]
    }
   ],
   "source": [
    "df_PPI_merged_unique.loc[:, \"SWISS-PROT Accessions Interactor A\"] = df_PPI_merged_unique.loc[:, \"SWISS-PROT Accessions Interactor A\"].str.upper()\n",
    "df_PPI_merged_unique.loc[:, \"SWISS-PROT Accessions Interactor B\"] = df_PPI_merged_unique.loc[:, \"SWISS-PROT Accessions Interactor B\"].str.upper()\n",
    "    \n",
    "df_PPI_merged_unique.to_csv(\"PPI_human_merged.txt\", header = True, sep = \"\\t\", index = False)"
   ]
  },
  {
   "cell_type": "code",
   "execution_count": 9,
   "id": "d65a8176",
   "metadata": {},
   "outputs": [
    {
     "data": {
      "text/html": [
       "<div>\n",
       "<style scoped>\n",
       "    .dataframe tbody tr th:only-of-type {\n",
       "        vertical-align: middle;\n",
       "    }\n",
       "\n",
       "    .dataframe tbody tr th {\n",
       "        vertical-align: top;\n",
       "    }\n",
       "\n",
       "    .dataframe thead th {\n",
       "        text-align: right;\n",
       "    }\n",
       "</style>\n",
       "<table border=\"1\" class=\"dataframe\">\n",
       "  <thead>\n",
       "    <tr style=\"text-align: right;\">\n",
       "      <th></th>\n",
       "      <th>interactor_a</th>\n",
       "      <th>interactor_b</th>\n",
       "      <th>interaction_type</th>\n",
       "    </tr>\n",
       "  </thead>\n",
       "  <tbody>\n",
       "    <tr>\n",
       "      <th>0</th>\n",
       "      <td>Q4ZGA4</td>\n",
       "      <td>Q12959</td>\n",
       "      <td>psi-mi:\"MI:0915\"(physical association)</td>\n",
       "    </tr>\n",
       "    <tr>\n",
       "      <th>1</th>\n",
       "      <td>Q7LYY4</td>\n",
       "      <td>P17535</td>\n",
       "      <td>psi-mi:\"MI:0407\"(direct interaction)</td>\n",
       "    </tr>\n",
       "    <tr>\n",
       "      <th>2</th>\n",
       "      <td>Q7LYY4</td>\n",
       "      <td>P17535</td>\n",
       "      <td>psi-mi:\"MI:0915\"(physical association)</td>\n",
       "    </tr>\n",
       "    <tr>\n",
       "      <th>3</th>\n",
       "      <td>Q2Q067</td>\n",
       "      <td>Q13015</td>\n",
       "      <td>psi-mi:\"MI:0915\"(physical association)</td>\n",
       "    </tr>\n",
       "    <tr>\n",
       "      <th>4</th>\n",
       "      <td>Q2Q067</td>\n",
       "      <td>Q15287</td>\n",
       "      <td>psi-mi:\"MI:0915\"(physical association)</td>\n",
       "    </tr>\n",
       "    <tr>\n",
       "      <th>...</th>\n",
       "      <td>...</td>\n",
       "      <td>...</td>\n",
       "      <td>...</td>\n",
       "    </tr>\n",
       "    <tr>\n",
       "      <th>47802</th>\n",
       "      <td>P21187</td>\n",
       "      <td>Q9UPQ9</td>\n",
       "      <td>psi-mi:\"MI:0915\"(physical association)</td>\n",
       "    </tr>\n",
       "    <tr>\n",
       "      <th>47803</th>\n",
       "      <td>Q9UPQ9</td>\n",
       "      <td>P21187</td>\n",
       "      <td>psi-mi:\"MI:0915\"(physical association)</td>\n",
       "    </tr>\n",
       "    <tr>\n",
       "      <th>47804</th>\n",
       "      <td>Q61838</td>\n",
       "      <td>P01137</td>\n",
       "      <td>psi-mi:\"MI:0407\"(direct interaction)</td>\n",
       "    </tr>\n",
       "    <tr>\n",
       "      <th>47805</th>\n",
       "      <td>P0CK48</td>\n",
       "      <td>A6SZC0</td>\n",
       "      <td>psi-mi:\"MI:0915\"(physical association)</td>\n",
       "    </tr>\n",
       "    <tr>\n",
       "      <th>47806</th>\n",
       "      <td>D5H2E2</td>\n",
       "      <td>Q1HVD3</td>\n",
       "      <td>psi-mi:\"MI:0915\"(physical association)</td>\n",
       "    </tr>\n",
       "  </tbody>\n",
       "</table>\n",
       "<p>47807 rows × 3 columns</p>\n",
       "</div>"
      ],
      "text/plain": [
       "      interactor_a interactor_b                        interaction_type\n",
       "0           Q4ZGA4       Q12959  psi-mi:\"MI:0915\"(physical association)\n",
       "1           Q7LYY4       P17535    psi-mi:\"MI:0407\"(direct interaction)\n",
       "2           Q7LYY4       P17535  psi-mi:\"MI:0915\"(physical association)\n",
       "3           Q2Q067       Q13015  psi-mi:\"MI:0915\"(physical association)\n",
       "4           Q2Q067       Q15287  psi-mi:\"MI:0915\"(physical association)\n",
       "...            ...          ...                                     ...\n",
       "47802       P21187       Q9UPQ9  psi-mi:\"MI:0915\"(physical association)\n",
       "47803       Q9UPQ9       P21187  psi-mi:\"MI:0915\"(physical association)\n",
       "47804       Q61838       P01137    psi-mi:\"MI:0407\"(direct interaction)\n",
       "47805       P0CK48       A6SZC0  psi-mi:\"MI:0915\"(physical association)\n",
       "47806       D5H2E2       Q1HVD3  psi-mi:\"MI:0915\"(physical association)\n",
       "\n",
       "[47807 rows x 3 columns]"
      ]
     },
     "execution_count": 9,
     "metadata": {},
     "output_type": "execute_result"
    }
   ],
   "source": [
    "df_MINT"
   ]
  },
  {
   "attachments": {},
   "cell_type": "markdown",
   "id": "baf6255c",
   "metadata": {},
   "source": [
    "## Protein-protein interaction in mouse"
   ]
  },
  {
   "cell_type": "code",
   "execution_count": 10,
   "id": "8163c211",
   "metadata": {},
   "outputs": [],
   "source": [
    "# BioGRID\n",
    "df_BioGRID_mouse = pd.read_csv(\"~/projects/Factor.Harbor/data/public/PPI/BioGRID/BioGRID_PPI_filtered_mouse.txt\", header = 0, sep = \"\\t\")\n",
    "df_BioGRID_filtered_mouse = df_BioGRID_mouse.loc[:, [\"SWISS-PROT Accessions Interactor A\", \"SWISS-PROT Accessions Interactor B\"]]\n",
    "df_BioGRID_filtered_mouse = df_BioGRID_filtered_mouse.loc[df_BioGRID_filtered_mouse[\"SWISS-PROT Accessions Interactor A\"] != df_BioGRID_filtered_mouse[\"SWISS-PROT Accessions Interactor B\"], :] # remove the same factor PPI\n",
    "paired_labels = df_BioGRID_filtered_mouse.apply(lambda x:\"$\".join(np.sort(x)), 1).values\n",
    "df_BioGRID_filtered_mouse.loc[:, \"label\"] = paired_labels\n",
    "df_BioGRID_unique_mouse = df_BioGRID_filtered_mouse.drop_duplicates(\"label\", keep = \"first\")\n",
    "\n",
    "# MINT\n",
    "df_MINT_mouse = pd.read_csv(\"MINT/MINT_PPI_filtered_mouse.txt\", header = 0, sep = \"\\t\")\n",
    "df_MINT_filtered_mouse = df_MINT_mouse.loc[df_MINT_mouse[\"interactor_a\"] != df_MINT_mouse[\"interactor_b\"], [\"interactor_a\", \"interactor_b\"]]\n",
    "paired_labels = df_MINT_filtered_mouse.apply(lambda x:\"$\".join(np.sort(x)), 1).values\n",
    "df_MINT_filtered_mouse.loc[:, \"label\"] = paired_labels\n",
    "df_MINT_unique_mouse = df_MINT_filtered_mouse.drop_duplicates(\"label\", keep = \"first\")\n",
    "df_MINT_unique_mouse.columns = [\"SWISS-PROT Accessions Interactor A\", \"SWISS-PROT Accessions Interactor B\", \"label\"]\n",
    "\n",
    "# IntAct \n",
    "df_IntAct_mouse = pd.read_csv(\"IntAct/IntAct_PPI_mouse_filtered.txt\", header = 0, sep = \"\\t\")\n",
    "df_IntAct_filtered_mouse = df_IntAct_mouse.loc[df_IntAct_mouse[\"SWISS-PROT Accessions Interactor A\"] != df_IntAct_mouse[\"SWISS-PROT Accessions Interactor B\"], [\"SWISS-PROT Accessions Interactor A\", \"SWISS-PROT Accessions Interactor B\"]]\n",
    "paired_labels = df_IntAct_filtered_mouse.apply(lambda x:\"$\".join(np.sort(x)), 1).values\n",
    "df_IntAct_filtered_mouse.loc[:, \"label\"] = paired_labels\n",
    "df_IntAct_unique_mouse = df_IntAct_filtered_mouse.drop_duplicates(\"label\", keep = \"first\")\n",
    "\n",
    "df_PPI_merged_mouse = pd.concat([df_BioGRID_unique_mouse, df_MINT_unique_mouse, df_IntAct_unique_mouse])\n",
    "df_PPI_merged_unique_mouse = df_PPI_merged_mouse.drop_duplicates(\"label\", keep = \"first\")"
   ]
  },
  {
   "cell_type": "code",
   "execution_count": 11,
   "id": "b4b32a5f",
   "metadata": {},
   "outputs": [
    {
     "name": "stderr",
     "output_type": "stream",
     "text": [
      "/mnt/Storage/home/yuzhaowei/anaconda3/envs/py37/lib/python3.7/site-packages/pandas/core/indexing.py:1951: SettingWithCopyWarning: \n",
      "A value is trying to be set on a copy of a slice from a DataFrame.\n",
      "Try using .loc[row_indexer,col_indexer] = value instead\n",
      "\n",
      "See the caveats in the documentation: https://pandas.pydata.org/pandas-docs/stable/user_guide/indexing.html#returning-a-view-versus-a-copy\n",
      "  self.obj[selected_item_labels] = value\n"
     ]
    }
   ],
   "source": [
    "df_PPI_merged_unique_mouse.loc[:, \"SWISS-PROT Accessions Interactor A\"] = df_PPI_merged_unique_mouse.loc[:, \"SWISS-PROT Accessions Interactor A\"].str.upper()\n",
    "df_PPI_merged_unique_mouse.loc[:, \"SWISS-PROT Accessions Interactor B\"] = df_PPI_merged_unique_mouse.loc[:, \"SWISS-PROT Accessions Interactor B\"].str.upper()\n",
    "    \n",
    "df_PPI_merged_unique_mouse.to_csv(\"PPI_mouse_merged.txt\", header = True, sep = \"\\t\", index = False)\n"
   ]
  },
  {
   "cell_type": "code",
   "execution_count": null,
   "id": "1a106272",
   "metadata": {},
   "outputs": [],
   "source": []
  }
 ],
 "metadata": {
  "kernelspec": {
   "display_name": "Python 3 (ipykernel)",
   "language": "python",
   "name": "python3"
  },
  "language_info": {
   "codemirror_mode": {
    "name": "ipython",
    "version": 3
   },
   "file_extension": ".py",
   "mimetype": "text/x-python",
   "name": "python",
   "nbconvert_exporter": "python",
   "pygments_lexer": "ipython3",
   "version": "3.10.6"
  },
  "toc": {
   "base_numbering": 1,
   "nav_menu": {},
   "number_sections": true,
   "sideBar": true,
   "skip_h1_title": false,
   "title_cell": "Table of Contents",
   "title_sidebar": "Contents",
   "toc_cell": false,
   "toc_position": {},
   "toc_section_display": true,
   "toc_window_display": false
  }
 },
 "nbformat": 4,
 "nbformat_minor": 5
}
