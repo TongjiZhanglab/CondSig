{
 "cells": [
  {
   "cell_type": "code",
   "execution_count": 9,
   "id": "8ccc1545",
   "metadata": {},
   "outputs": [],
   "source": [
    "import pandas as pd\n",
    "import numpy as np\n",
    "import os,sys\n",
    "import bs4 as bs\n",
    "import urllib\n",
    "import requests\n",
    "import xlrd"
   ]
  },
  {
   "attachments": {},
   "cell_type": "markdown",
   "id": "96e9f513",
   "metadata": {},
   "source": [
    "## Summary all known phase-separated proteins in human"
   ]
  },
  {
   "attachments": {},
   "cell_type": "markdown",
   "id": "1a8d1138",
   "metadata": {},
   "source": [
    "### DrLLPS (scaffold protein in human)"
   ]
  },
  {
   "cell_type": "code",
   "execution_count": 10,
   "id": "f3492d38",
   "metadata": {},
   "outputs": [
    {
     "name": "stdout",
     "output_type": "stream",
     "text": [
      "(86, 4)\n"
     ]
    }
   ],
   "source": [
    "df_DrLLPS = pd.read_csv(\"~/projects/Factor.Harbor/data/public/LLPS/DrLLPS/LLPS.txt\", header = 0, sep = \"\\t\")\n",
    "df_DrLLPS_human = df_DrLLPS.loc[((df_DrLLPS[\"Species\"] == \"Homo sapiens\") & (df_DrLLPS[\"LLPS Type\"] == \"Scaffold\")), \n",
    "                                [\"UniProt ID\", \"Gene name\", \"Species\"]]\n",
    "df_DrLLPS_human.loc[:, \"Source\"] = \"DrLLPS\"\n",
    "print(df_DrLLPS_human.shape)"
   ]
  },
  {
   "attachments": {},
   "cell_type": "markdown",
   "id": "24e54bfd",
   "metadata": {},
   "source": [
    "### LLPSDB (human)"
   ]
  },
  {
   "cell_type": "code",
   "execution_count": 12,
   "id": "dead2caf",
   "metadata": {},
   "outputs": [
    {
     "name": "stdout",
     "output_type": "stream",
     "text": [
      "(92, 4)\n"
     ]
    },
    {
     "name": "stderr",
     "output_type": "stream",
     "text": [
      "/tmp/ipykernel_34580/2042000591.py:11: SettingWithCopyWarning: \n",
      "A value is trying to be set on a copy of a slice from a DataFrame.\n",
      "Try using .loc[row_indexer,col_indexer] = value instead\n",
      "\n",
      "See the caveats in the documentation: https://pandas.pydata.org/pandas-docs/stable/user_guide/indexing.html#returning-a-view-versus-a-copy\n",
      "  df_LLPSDB_human.loc[:, \"Source\"] = \"LLPSDB\"\n"
     ]
    }
   ],
   "source": [
    "# all raw natural protein from LLPSDB\n",
    "llpsdb_dir = os.path.join(os.path.expanduser(\"~\"), \"projects/Factor.Harbor/data/public/LLPS/LLPSDB/protein.xls\")\n",
    "workbook = xlrd.open_workbook(llpsdb_dir)\n",
    "table = workbook.sheets()[0]\n",
    "Gene_names = table.col_values(1, start_rowx = 1, end_rowx = None)\n",
    "Uniprot_IDs = table.col_values(5, start_rowx = 1, end_rowx = None)\n",
    "Species = table.col_values(7, start_rowx = 1, end_rowx = None)\n",
    "df_LLPSDB = pd.DataFrame([Uniprot_IDs, Gene_names, Species]).T\n",
    "df_LLPSDB.columns = [\"UniProt ID\", \"Gene name\", \"Species\"]\n",
    "df_LLPSDB_human = df_LLPSDB.loc[df_LLPSDB[\"Species\"] == \"Homo sapiens\", :]\n",
    "df_LLPSDB_human.loc[:, \"Source\"] = \"LLPSDB\"\n",
    "print(df_LLPSDB_human.shape)"
   ]
  },
  {
   "attachments": {},
   "cell_type": "markdown",
   "id": "87936db2",
   "metadata": {},
   "source": [
    "### PhaSepDB (v1, human)"
   ]
  },
  {
   "cell_type": "code",
   "execution_count": 13,
   "id": "37b5a474",
   "metadata": {},
   "outputs": [
    {
     "name": "stdout",
     "output_type": "stream",
     "text": [
      "(392, 4)\n"
     ]
    }
   ],
   "source": [
    "df_PhaSepDB = pd.read_csv(\"/mnt/Storage/home/yuzhaowei/projects/Factor.Harbor/data/public/LLPS/PhaSepDB/Reviewed_Data_V1.3.txt\", header = 1, sep = \"\\t\")\n",
    "df_PhaSepDB_human = df_PhaSepDB.loc[((df_PhaSepDB[\"Organism\"] == \"Homo sapiens \") | (df_PhaSepDB[\"Organism\"] == \"Homo sapiens\")), [\"UniprotEntry\", \"GeneSymbol\", \"Organism\"]]\n",
    "df_PhaSepDB_human.loc[:, \"Source\"] = \"PhaSepDB_v1\"\n",
    "df_PhaSepDB_human.loc[:, \"Organism\"] = \"Homo sapiens\"\n",
    "df_PhaSepDB_human.columns = [\"UniProt ID\", \"Gene name\", \"Species\", \"Source\"]\n",
    "print(df_PhaSepDB_human.shape)"
   ]
  },
  {
   "attachments": {},
   "cell_type": "markdown",
   "id": "6179cbf2",
   "metadata": {},
   "source": [
    "### PhaSepDB (v2, human)"
   ]
  },
  {
   "cell_type": "code",
   "execution_count": 15,
   "id": "1ee87e42",
   "metadata": {},
   "outputs": [
    {
     "name": "stdout",
     "output_type": "stream",
     "text": [
      "(271, 4)\n"
     ]
    }
   ],
   "source": [
    "df_PhaSepDB_v2 = pd.read_excel(\"~/projects/Factor.Harbor/data/public/LLPS/PhaSepDB_v2/phasepdbv2_llps.xlsx\")\n",
    "df_PhaSepDB_v2_human = df_PhaSepDB_v2.loc[((df_PhaSepDB_v2[\"organism\"] == \"Homo sapiens\") & (df_PhaSepDB_v2[\"Status\"] == \"reviewed\")), [\"uniprot_entry\", \"Gene_names\", \"organism\"]].drop_duplicates(subset = [\"uniprot_entry\"], keep = \"first\")\n",
    "df_PhaSepDB_v2_human.loc[:, \"Source\"] = \"PhaSepDB_v2\"\n",
    "df_PhaSepDB_v2_human.columns = [\"UniProt ID\", \"Gene name\", \"Species\", \"Source\"]\n",
    "print(df_PhaSepDB_v2_human.shape)"
   ]
  },
  {
   "attachments": {},
   "cell_type": "markdown",
   "id": "8678ed28",
   "metadata": {},
   "source": [
    "### PhaSepPro (human)"
   ]
  },
  {
   "cell_type": "code",
   "execution_count": 16,
   "id": "bd501ecd",
   "metadata": {},
   "outputs": [],
   "source": [
    "import urllib\n",
    "import json\n",
    "with urllib.request.urlopen(\"https://phasepro.elte.hu/download_full.json\") as url:\n",
    "    # Variable 'data' will contain the full database as a nested dictionary\n",
    "    data = json.loads(url.read().decode())    "
   ]
  },
  {
   "cell_type": "code",
   "execution_count": 17,
   "id": "1ea36ea7",
   "metadata": {},
   "outputs": [
    {
     "name": "stdout",
     "output_type": "stream",
     "text": [
      "(59, 4)\n"
     ]
    }
   ],
   "source": [
    "PhaSepPro_list = []\n",
    "for UniprotID in data.keys():\n",
    "    PhaSepPro_list.append([UniprotID, data[UniprotID][\"gene\"], data[UniprotID][\"organism\"]])\n",
    "df_PhaSepPro = pd.DataFrame(PhaSepPro_list)\n",
    "df_PhaSepPro.columns = [\"UniProt ID\", \"Gene name\", \"Species\"]\n",
    "df_PhaSepPro.loc[:, \"Source\"] = \"PhaSepPro\"\n",
    "df_PhaSepPro_human = df_PhaSepPro.loc[df_PhaSepPro[\"Species\"] == \"Homo sapiens\", :]\n",
    "print(df_PhaSepPro_human.shape)"
   ]
  },
  {
   "attachments": {},
   "cell_type": "markdown",
   "id": "9bbfb94c",
   "metadata": {},
   "source": [
    "### Merged (human)"
   ]
  },
  {
   "cell_type": "code",
   "execution_count": 18,
   "id": "deac4a64",
   "metadata": {},
   "outputs": [],
   "source": [
    "df_LLPS_human_merged = pd.concat([df_DrLLPS_human, df_LLPSDB_human, df_PhaSepDB_human, df_PhaSepDB_v2_human, df_PhaSepPro_human], axis = 0)\n",
    "df_LLPS_human_merged.loc[:, \"UniProt ID\"] = df_LLPS_human_merged.loc[:, \"UniProt ID\"].str.upper()\n",
    "df_LLPS_human_merged.loc[:, \"Gene name\"] = df_LLPS_human_merged.loc[:, \"Gene name\"].str.upper()\n",
    "df_LLPS_human_merged.loc[:, \"UniProt ID\"] = df_LLPS_human_merged.loc[:, \"UniProt ID\"].str.replace(u'\\xa0', u'')\n",
    "\n",
    "df_LLPS_human_merged.to_csv(\"LLPS_human_merged.txt\", header = True, sep = \"\\t\", index = False)"
   ]
  },
  {
   "cell_type": "code",
   "execution_count": 19,
   "id": "8c2fc83a",
   "metadata": {},
   "outputs": [
    {
     "data": {
      "text/plain": [
       "437"
      ]
     },
     "execution_count": 19,
     "metadata": {},
     "output_type": "execute_result"
    }
   ],
   "source": [
    "# merged phase-seprated proteins\n",
    "len(np.unique(df_LLPS_human_merged.loc[:, \"UniProt ID\"])) "
   ]
  },
  {
   "attachments": {},
   "cell_type": "markdown",
   "id": "fa129ae6",
   "metadata": {},
   "source": [
    "## Summary all known phase-separated proteins in mouse"
   ]
  },
  {
   "attachments": {},
   "cell_type": "markdown",
   "id": "807c83ba",
   "metadata": {},
   "source": [
    "### DrLLPS (scaffold protein in mouse)"
   ]
  },
  {
   "cell_type": "code",
   "execution_count": 21,
   "id": "adeb221d",
   "metadata": {},
   "outputs": [
    {
     "name": "stdout",
     "output_type": "stream",
     "text": [
      "(12, 4)\n"
     ]
    }
   ],
   "source": [
    "df_DrLLPS_mouse = df_DrLLPS.loc[((df_DrLLPS[\"Species\"] == \"Mus musculus\") & (df_DrLLPS[\"LLPS Type\"] == \"Scaffold\")), \n",
    "                                [\"UniProt ID\", \"Gene name\", \"Species\"]]\n",
    "df_DrLLPS_mouse.loc[:, \"Source\"] = \"DrLLPS\"\n",
    "print(df_DrLLPS_mouse.shape)"
   ]
  },
  {
   "attachments": {},
   "cell_type": "markdown",
   "id": "0652a49e",
   "metadata": {},
   "source": [
    "### LLPSDB (mouse)"
   ]
  },
  {
   "cell_type": "code",
   "execution_count": 22,
   "id": "74fd9091",
   "metadata": {},
   "outputs": [
    {
     "name": "stdout",
     "output_type": "stream",
     "text": [
      "(9, 4)\n"
     ]
    },
    {
     "name": "stderr",
     "output_type": "stream",
     "text": [
      "/tmp/ipykernel_34580/2846281012.py:2: SettingWithCopyWarning: \n",
      "A value is trying to be set on a copy of a slice from a DataFrame.\n",
      "Try using .loc[row_indexer,col_indexer] = value instead\n",
      "\n",
      "See the caveats in the documentation: https://pandas.pydata.org/pandas-docs/stable/user_guide/indexing.html#returning-a-view-versus-a-copy\n",
      "  df_LLPSDB_mouse.loc[:, \"Source\"] = \"LLPSDB\"\n"
     ]
    }
   ],
   "source": [
    "df_LLPSDB_mouse = df_LLPSDB.loc[df_LLPSDB[\"Species\"] == \"Mus musculus\", :]\n",
    "df_LLPSDB_mouse.loc[:, \"Source\"] = \"LLPSDB\"\n",
    "print(df_LLPSDB_mouse.shape)"
   ]
  },
  {
   "attachments": {},
   "cell_type": "markdown",
   "id": "2de90b26",
   "metadata": {},
   "source": [
    "### PhaSepDB (v1, mouse)"
   ]
  },
  {
   "cell_type": "code",
   "execution_count": 23,
   "id": "d11b9bde",
   "metadata": {},
   "outputs": [
    {
     "name": "stdout",
     "output_type": "stream",
     "text": [
      "(15, 4)\n"
     ]
    }
   ],
   "source": [
    "df_PhaSepDB_mouse = df_PhaSepDB.loc[(df_PhaSepDB[\"Organism\"] == \"Mus musculus\"), [\"UniprotEntry\", \"GeneSymbol\", \"Organism\"]]\n",
    "df_PhaSepDB_mouse.loc[:, \"Source\"] = \"PhaSepDB_v1\"\n",
    "df_PhaSepDB_mouse.loc[:, \"Organism\"] = \"Mus musculus\"\n",
    "df_PhaSepDB_mouse.columns = [\"UniProt ID\", \"Gene name\", \"Species\", \"Source\"]\n",
    "print(df_PhaSepDB_mouse.shape)"
   ]
  },
  {
   "attachments": {},
   "cell_type": "markdown",
   "id": "9b4be854",
   "metadata": {},
   "source": [
    "### PhaSepDB (v2, mouse)"
   ]
  },
  {
   "cell_type": "code",
   "execution_count": 24,
   "id": "f1d0a2be",
   "metadata": {},
   "outputs": [
    {
     "name": "stdout",
     "output_type": "stream",
     "text": [
      "(48, 4)\n"
     ]
    }
   ],
   "source": [
    "df_PhaSepDB_v2_mouse = df_PhaSepDB_v2.loc[((df_PhaSepDB_v2[\"organism\"] == \"Mus musculus\") & (df_PhaSepDB_v2[\"Status\"] == \"reviewed\")), [\"uniprot_entry\", \"Gene_names\", \"organism\"]].drop_duplicates(subset = [\"uniprot_entry\"], keep = \"first\")\n",
    "df_PhaSepDB_v2_mouse.loc[:, \"Source\"] = \"PhaSepDB_v2\"\n",
    "df_PhaSepDB_v2_mouse.columns = [\"UniProt ID\", \"Gene name\", \"Species\", \"Source\"]\n",
    "print(df_PhaSepDB_v2_mouse.shape)"
   ]
  },
  {
   "attachments": {},
   "cell_type": "markdown",
   "id": "72d8630a",
   "metadata": {},
   "source": [
    "### PhaSepPro (mouse)"
   ]
  },
  {
   "cell_type": "code",
   "execution_count": 25,
   "id": "459343a5",
   "metadata": {},
   "outputs": [
    {
     "name": "stdout",
     "output_type": "stream",
     "text": [
      "(2, 4)\n"
     ]
    }
   ],
   "source": [
    "df_PhaSepPro_mouse = df_PhaSepPro.loc[df_PhaSepPro[\"Species\"] == \"Mus musculus\", :]\n",
    "print(df_PhaSepPro_mouse.shape)"
   ]
  },
  {
   "attachments": {},
   "cell_type": "markdown",
   "id": "78cbdbcf",
   "metadata": {},
   "source": [
    "### Merged (mouse)"
   ]
  },
  {
   "cell_type": "code",
   "execution_count": 26,
   "id": "30d8103b",
   "metadata": {},
   "outputs": [],
   "source": [
    "df_LLPS_mouse_merged = pd.concat([df_DrLLPS_mouse, df_LLPSDB_mouse, df_PhaSepDB_mouse, df_PhaSepDB_v2_mouse, df_PhaSepPro_mouse], axis = 0)\n",
    "df_LLPS_mouse_merged.loc[:, \"UniProt ID\"] = df_LLPS_mouse_merged.loc[:, \"UniProt ID\"].str.upper()\n",
    "df_LLPS_mouse_merged.loc[:, \"Gene name\"] = df_LLPS_mouse_merged.loc[:, \"Gene name\"].str.upper()\n",
    "df_LLPS_mouse_merged.loc[:, \"UniProt ID\"] = df_LLPS_mouse_merged.loc[:, \"UniProt ID\"].str.replace(u'\\xa0', u'')\n",
    "\n",
    "df_LLPS_mouse_merged.to_csv(\"LLPS_mouse_merged.txt\", header = True, sep = \"\\t\", index = False)"
   ]
  },
  {
   "cell_type": "code",
   "execution_count": 27,
   "id": "9c2a0633",
   "metadata": {},
   "outputs": [
    {
     "data": {
      "text/plain": [
       "61"
      ]
     },
     "execution_count": 27,
     "metadata": {},
     "output_type": "execute_result"
    }
   ],
   "source": [
    "len(np.unique(df_LLPS_mouse_merged.loc[:, \"UniProt ID\"]))"
   ]
  },
  {
   "attachments": {},
   "cell_type": "markdown",
   "id": "b2a78a77",
   "metadata": {},
   "source": [
    "## Mouse extended (plus human phase-separated proteins)"
   ]
  },
  {
   "attachments": {},
   "cell_type": "markdown",
   "id": "f7c07dd3",
   "metadata": {},
   "source": [
    "### As known phase-separated protein in mouse is far less than in human, so we extended phase-separated proteins in mouse by adding human phase-separated proteins "
   ]
  },
  {
   "cell_type": "code",
   "execution_count": 28,
   "id": "997d2688",
   "metadata": {},
   "outputs": [],
   "source": [
    "def humanToMouse_id(uniprot_id_human):    \n",
    "    \"\"\"find mouse uniprot id for each protein according to its human uniprot id\"\"\"\n",
    "    try:\n",
    "        url = \"https://www.uniprot.org/uniprot/{0}\" . format(uniprot_id_human)\n",
    "        with requests.Session() as s:\n",
    "            sauce = s.get(url, timeout = 10)\n",
    "            soup = bs.BeautifulSoup(sauce.content,'html.parser')\n",
    "            section = soup.find(\"section\", id=\"page-header\")\n",
    "            divs = section.find_all(\"div\")\n",
    "            h2 = divs[1].find(\"h2\")\n",
    "            title = h2.find(\"span\")\n",
    "            uniprot_genename_human = title.get_text().lstrip(\"(\").rstrip(\")\")\n",
    "        \n",
    "        # print(uniprot_genename_human)\n",
    "        \n",
    "        url_mouse = \"\"\n",
    "        url_mouse = \"https://www.uniprot.org/uniprot/?query={0}&sort=score\" . format(uniprot_genename_human.replace(\"HUMAN\", \"MOUSE\"))\n",
    "\n",
    "        with requests.Session() as s:\n",
    "            sauce = s.get(url_mouse, timeout = 10)\n",
    "            uniprot_id_mouse = str(sauce.url).split(\"/\")[-1]\n",
    "            \n",
    "        if \"?\" not in uniprot_id_mouse:\n",
    "             return uniprot_id_mouse\n",
    "        else:\n",
    "            return None\n",
    "    except:\n",
    "        return None"
   ]
  },
  {
   "cell_type": "code",
   "execution_count": 29,
   "id": "befafa92",
   "metadata": {},
   "outputs": [
    {
     "data": {
      "text/html": [
       "<div>\n",
       "<style scoped>\n",
       "    .dataframe tbody tr th:only-of-type {\n",
       "        vertical-align: middle;\n",
       "    }\n",
       "\n",
       "    .dataframe tbody tr th {\n",
       "        vertical-align: top;\n",
       "    }\n",
       "\n",
       "    .dataframe thead th {\n",
       "        text-align: right;\n",
       "    }\n",
       "</style>\n",
       "<table border=\"1\" class=\"dataframe\">\n",
       "  <thead>\n",
       "    <tr style=\"text-align: right;\">\n",
       "      <th></th>\n",
       "      <th>UniProt ID</th>\n",
       "      <th>Gene name</th>\n",
       "      <th>Species</th>\n",
       "      <th>Source</th>\n",
       "    </tr>\n",
       "  </thead>\n",
       "  <tbody>\n",
       "    <tr>\n",
       "      <th>0</th>\n",
       "      <td>P35637</td>\n",
       "      <td>FUS</td>\n",
       "      <td>Homo sapiens</td>\n",
       "      <td>DrLLPS</td>\n",
       "    </tr>\n",
       "    <tr>\n",
       "      <th>1</th>\n",
       "      <td>O43670</td>\n",
       "      <td>ZNF207</td>\n",
       "      <td>Homo sapiens</td>\n",
       "      <td>DrLLPS</td>\n",
       "    </tr>\n",
       "    <tr>\n",
       "      <th>2</th>\n",
       "      <td>P09651</td>\n",
       "      <td>HNRNPA1</td>\n",
       "      <td>Homo sapiens</td>\n",
       "      <td>DrLLPS</td>\n",
       "    </tr>\n",
       "    <tr>\n",
       "      <th>3</th>\n",
       "      <td>P10636</td>\n",
       "      <td>MAPT</td>\n",
       "      <td>Homo sapiens</td>\n",
       "      <td>DrLLPS</td>\n",
       "    </tr>\n",
       "    <tr>\n",
       "      <th>4</th>\n",
       "      <td>Q13148</td>\n",
       "      <td>TARDBP</td>\n",
       "      <td>Homo sapiens</td>\n",
       "      <td>DrLLPS</td>\n",
       "    </tr>\n",
       "  </tbody>\n",
       "</table>\n",
       "</div>"
      ],
      "text/plain": [
       "  UniProt ID Gene name       Species  Source\n",
       "0     P35637       FUS  Homo sapiens  DrLLPS\n",
       "1     O43670    ZNF207  Homo sapiens  DrLLPS\n",
       "2     P09651   HNRNPA1  Homo sapiens  DrLLPS\n",
       "3     P10636      MAPT  Homo sapiens  DrLLPS\n",
       "4     Q13148    TARDBP  Homo sapiens  DrLLPS"
      ]
     },
     "execution_count": 29,
     "metadata": {},
     "output_type": "execute_result"
    }
   ],
   "source": [
    "df_LLPS_human_merged.head()"
   ]
  },
  {
   "cell_type": "code",
   "execution_count": 30,
   "id": "1d143054",
   "metadata": {},
   "outputs": [],
   "source": [
    "list_LLPS_humanToMouse = []\n",
    "for index, row in df_LLPS_human_merged.iterrows():\n",
    "    \n",
    "    uniprot_id_human = row[\"UniProt ID\"]\n",
    "    gene_name = row[\"Gene name\"]\n",
    "    species = row[\"Species\"]\n",
    "    source = row[\"Source\"]\n",
    "    uniprot_id_mouse = humanToMouse_id(uniprot_id_human)\n",
    "    if uniprot_id_mouse:\n",
    "        list_LLPS_humanToMouse.append([uniprot_id_mouse, gene_name, species, source])"
   ]
  },
  {
   "cell_type": "code",
   "execution_count": 32,
   "id": "6f6a0d83",
   "metadata": {},
   "outputs": [],
   "source": [
    "df_LLPS_humanToMouse = pd.DataFrame(list_LLPS_humanToMouse)\n",
    "df_LLPS_humanToMouse.columns = df_LLPS_mouse_merged.columns.values\n",
    "df_LLPS_mouseExtended = pd.concat([df_LLPS_humanToMouse, df_LLPS_mouse_merged], axis = 0)\n",
    "df_LLPS_mouseExtended.to_csv(\"LLPS_mouseExtended.txt\", header = True, sep = \"\\t\", index = False)"
   ]
  }
 ],
 "metadata": {
  "kernelspec": {
   "display_name": "Python3",
   "language": "python",
   "name": "python3"
  },
  "language_info": {
   "codemirror_mode": {
    "name": "ipython",
    "version": 3
   },
   "file_extension": ".py",
   "mimetype": "text/x-python",
   "name": "python",
   "nbconvert_exporter": "python",
   "pygments_lexer": "ipython3",
   "version": "3.10.6"
  }
 },
 "nbformat": 4,
 "nbformat_minor": 5
}
