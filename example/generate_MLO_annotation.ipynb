{
 "cells": [
  {
   "attachments": {},
   "cell_type": "markdown",
   "id": "6a917e12",
   "metadata": {},
   "source": [
    "## Summary MLO component proteins in human and mouse from DrLLPS and PhaSepDB"
   ]
  },
  {
   "cell_type": "code",
   "execution_count": 1,
   "id": "a8885a54",
   "metadata": {},
   "outputs": [],
   "source": [
    "import pandas as pd\n",
    "import numpy as np\n",
    "\n",
    "import bs4 as bs\n",
    "import urllib\n",
    "import requests"
   ]
  },
  {
   "cell_type": "code",
   "execution_count": 2,
   "id": "05b95ecc",
   "metadata": {},
   "outputs": [],
   "source": [
    "def humanToMouse_id(uniprot_id_human):    \n",
    "    \"\"\"find mouse uniprot id for each protein according to its human uniprot id\"\"\"\n",
    "    try:\n",
    "        url = \"https://www.uniprot.org/uniprot/{0}\" . format(uniprot_id_human)\n",
    "        with requests.Session() as s:\n",
    "            sauce = s.get(url, timeout = 10)\n",
    "            soup = bs.BeautifulSoup(sauce.content,'html.parser')\n",
    "            section = soup.find(\"section\", id=\"page-header\")\n",
    "            divs = section.find_all(\"div\")\n",
    "            h2 = divs[1].find(\"h2\")\n",
    "            title = h2.find(\"span\")\n",
    "            uniprot_genename_human = title.get_text().lstrip(\"(\").rstrip(\")\")\n",
    "        \n",
    "        print(uniprot_genename_human)\n",
    "        \n",
    "        url_mouse = \"\"\n",
    "        url_mouse = \"https://www.uniprot.org/uniprot/?query={0}&sort=score\" . format(uniprot_genename_human.replace(\"HUMAN\", \"MOUSE\"))\n",
    "\n",
    "        with requests.Session() as s:\n",
    "            sauce = s.get(url_mouse, timeout = 10)\n",
    "            uniprot_id_mouse = str(sauce.url).split(\"/\")[-1]\n",
    "            \n",
    "        if \"?\" not in uniprot_id_mouse:\n",
    "             return uniprot_id_mouse\n",
    "        else:\n",
    "            return None\n",
    "    except:\n",
    "        return None"
   ]
  },
  {
   "attachments": {},
   "cell_type": "markdown",
   "id": "85cb2d0d",
   "metadata": {},
   "source": [
    "### DrLLPS"
   ]
  },
  {
   "cell_type": "code",
   "execution_count": 3,
   "id": "2fb946fc",
   "metadata": {},
   "outputs": [],
   "source": [
    "df_DrLLPS = pd.read_csv(\"~/projects/Factor.Harbor/data/public/LLPS/DrLLPS/LLPS.txt\", header = 0, sep = \"\\t\")\n",
    "\n",
    "# human\n",
    "df_DrLLPS_human = df_DrLLPS.loc[(\n",
    "            (df_DrLLPS[\"Species\"] == \"Homo sapiens\") & \n",
    "            ((df_DrLLPS[\"LLPS Type\"] == \"Scaffold\") | (df_DrLLPS[\"LLPS Type\"] == \"Client\") | (df_DrLLPS[\"LLPS Type\"] == \"Regulator\"))\n",
    "            ), :]\n",
    "DrLLPS_condensate_human = np.unique(np.concatenate([np.array(row.split(\", \")) for row in df_DrLLPS_human.loc[:,\"Condensate\"].values]))\n",
    "DrLLPS_condensate_protein_human = []\n",
    "for condensate in np.setdiff1d(DrLLPS_condensate_human, [\"Droplet\", \"Others\"]):\n",
    "    condensate_protein = np.unique(df_DrLLPS_human.loc[df_DrLLPS_human[\"Condensate\"].str.contains(condensate),\"UniProt ID\"].dropna().values)\n",
    "    DrLLPS_condensate_protein_human.append([condensate, condensate_protein])\n",
    "    \n",
    "# mouse\n",
    "df_DrLLPS_mouse = df_DrLLPS.loc[(\n",
    "            (df_DrLLPS[\"Species\"] == \"Mus musculus\") & \n",
    "            ((df_DrLLPS[\"LLPS Type\"] == \"Scaffold\") | (df_DrLLPS[\"LLPS Type\"] == \"Client\") | (df_DrLLPS[\"LLPS Type\"] == \"Regulator\"))\n",
    "            ), :]\n",
    "DrLLPS_condensate_mouse = np.unique(np.concatenate([np.array(row.split(\", \")) for row in df_DrLLPS_mouse.loc[:,\"Condensate\"].values]))\n",
    "DrLLPS_condensate_protein_mouse = []\n",
    "for condensate in np.setdiff1d(DrLLPS_condensate_mouse, [\"Droplet\", \"Others\"]):\n",
    "    condensate_protein = np.unique(df_DrLLPS_mouse.loc[df_DrLLPS_mouse[\"Condensate\"].str.contains(condensate),\"UniProt ID\"].dropna().values)\n",
    "    DrLLPS_condensate_protein_mouse.append([condensate, condensate_protein])\n"
   ]
  },
  {
   "attachments": {},
   "cell_type": "markdown",
   "id": "f6a980d5",
   "metadata": {},
   "source": [
    "### PhaSepDB (v1)"
   ]
  },
  {
   "cell_type": "code",
   "execution_count": 4,
   "id": "dbb40908",
   "metadata": {},
   "outputs": [],
   "source": [
    "df_PhaSepDB_reviewed = pd.read_csv(\"~/projects/Factor.Harbor/data/public/LLPS/PhaSepDB/Reviewed_Data_V1.3.txt\", header = 1, sep = \"\\t\")\n",
    "df_PhaSepDB_reviewed_human = df_PhaSepDB_reviewed.loc[((df_PhaSepDB_reviewed[\"Organism\"] == \"Homo sapiens \") | (df_PhaSepDB_reviewed[\"Organism\"] == \"Homo sapiens\")),:]\n",
    "df_PhaSepDB_reviewed_human_MLO = df_PhaSepDB_reviewed_human.loc[~df_PhaSepDB_reviewed_human[\"Body\"].isnull(), [\"UniprotEntry\", \"GeneSymbol\", \"Organism\", \"Body\"]]\n",
    "df_PhaSepDB_reviewed_mouse = df_PhaSepDB_reviewed.loc[df_PhaSepDB_reviewed[\"Organism\"] == \"Mus musculus\",:]\n",
    "df_PhaSepDB_reviewed_mouse_MLO = df_PhaSepDB_reviewed_mouse.loc[~df_PhaSepDB_reviewed_mouse[\"Body\"].isnull(), [\"UniprotEntry\", \"GeneSymbol\", \"Organism\", \"Body\"]]\n",
    "\n",
    "df_PhaSepDB_UniProtReviewed = pd.read_csv(\"~/projects/Factor.Harbor/data/public/LLPS/PhaSepDB/UniProtReviewed_Data_V1.3.txt\", header = 1, sep = \"\\t\")\n",
    "df_PhaSepDB_UniProtReviewed_human = df_PhaSepDB_UniProtReviewed.loc[((df_PhaSepDB_UniProtReviewed[\"Organism\"] == \"Homo sapiens \") | (df_PhaSepDB_UniProtReviewed[\"Organism\"] == \"Homo sapiens\")),:]\n",
    "df_PhaSepDB_UniProtReviewed_human_MLO = df_PhaSepDB_UniProtReviewed_human.loc[~df_PhaSepDB_UniProtReviewed_human[\"Body\"].isnull(), [\"UniprotEntry\", \"GeneSymbol\", \"Organism\", \"Body\"]]\n",
    "df_PhaSepDB_UniProtReviewed_mouse = df_PhaSepDB_UniProtReviewed.loc[df_PhaSepDB_UniProtReviewed[\"Organism\"] == \"Mus musculus\",:]\n",
    "df_PhaSepDB_UniProtReviewed_mouse_MLO = df_PhaSepDB_UniProtReviewed_mouse.loc[~df_PhaSepDB_UniProtReviewed_mouse[\"Body\"].isnull(), [\"UniprotEntry\", \"GeneSymbol\", \"Organism\", \"Body\"]]\n",
    "\n",
    "df_PhaSepDB_high_throughput = pd.read_csv(\"~/projects/Factor.Harbor/data/public/LLPS/PhaSepDB/High_throughput_Data_V1.3.txt\", header = 1, sep = \"\\t\")\n",
    "df_PhaSepDB_high_throughput_human = df_PhaSepDB_high_throughput.loc[((df_PhaSepDB_high_throughput[\"Organism\"] == \"Homo sapiens \") | (df_PhaSepDB_high_throughput[\"Organism\"] == \"Homo sapiens\")), :]\n",
    "df_PhaSepDB_high_throughput_human_MLO = df_PhaSepDB_high_throughput_human.loc[~df_PhaSepDB_high_throughput_human[\"Body\"].isnull(), [\"UniprotEntry\", \"GeneSymbol\", \"Organism\", \"Body\"]]\n",
    "df_PhaSepDB_high_throughput_mouse = df_PhaSepDB_high_throughput.loc[df_PhaSepDB_high_throughput[\"Organism\"] == \"Mus musculus\", :]\n",
    "df_PhaSepDB_high_throughput_mouse_MLO = df_PhaSepDB_high_throughput_mouse.loc[~df_PhaSepDB_high_throughput_mouse[\"Body\"].isnull(), [\"UniprotEntry\", \"GeneSymbol\", \"Organism\", \"Body\"]]\n",
    "\n",
    "df_PhaSepDB_human_MLO = pd.concat([df_PhaSepDB_reviewed_human_MLO, df_PhaSepDB_UniProtReviewed_human_MLO, df_PhaSepDB_high_throughput_human_MLO], axis = 0)\n",
    "df_PhaSepDB_mouse_MLO = pd.concat([df_PhaSepDB_reviewed_mouse_MLO, df_PhaSepDB_UniProtReviewed_mouse_MLO, df_PhaSepDB_high_throughput_mouse_MLO], axis = 0)\n",
    "\n",
    "PhaSepDB_condensate_protein_human = []\n",
    "PhaSepDB_condensate_human = np.unique(df_PhaSepDB_human_MLO.loc[:, \"Body\"].values)\n",
    "for condensate in PhaSepDB_condensate_human:\n",
    "    condensate_protein = np.unique(df_PhaSepDB_human_MLO.loc[df_PhaSepDB_human_MLO[\"Body\"] == condensate, \"UniprotEntry\"].dropna().values)\n",
    "    PhaSepDB_condensate_protein_human.append([condensate, condensate_protein])\n",
    "    \n",
    "PhaSepDB_condensate_protein_mouse = []\n",
    "PhaSepDB_condensate_mouse = np.unique(df_PhaSepDB_mouse_MLO.loc[:, \"Body\"].values)\n",
    "for condensate in PhaSepDB_condensate_mouse:\n",
    "    condensate_protein = np.unique(df_PhaSepDB_mouse_MLO.loc[df_PhaSepDB_mouse_MLO[\"Body\"] == condensate, \"UniprotEntry\"].dropna().values)\n",
    "    PhaSepDB_condensate_protein_mouse.append([condensate, condensate_protein])"
   ]
  },
  {
   "attachments": {},
   "cell_type": "markdown",
   "id": "6ded45d0-1c51-451f-8557-7adf90492229",
   "metadata": {},
   "source": [
    "### PhaSepDB (v2)"
   ]
  },
  {
   "cell_type": "code",
   "execution_count": 5,
   "id": "b8b25bf0",
   "metadata": {},
   "outputs": [],
   "source": [
    "df_PhaSepDB_v2_MLO = pd.read_excel(\"~/projects/Factor.Harbor/data/public/LLPS/PhaSepDB_v2/phasepdbv2_mlo.xlsx\")\n",
    "df_PhaSepDB_v2_human_MLO = df_PhaSepDB_v2_MLO.loc[df_PhaSepDB_v2_MLO[\"organism\"] == \"Homo sapiens\", [\"entry\", \"name\", \"organism\", \"MLO\"]]\n",
    "df_PhaSepDB_v2_human_MLO.columns = [\"UniprotEntry\", \"GeneSymbol\", \"Organism\", \"Body\"]\n",
    "df_PhaSepDB_v2_mouse_MLO = df_PhaSepDB_v2_MLO.loc[df_PhaSepDB_v2_MLO[\"organism\"] == \"Mus musculus\", [\"entry\", \"name\", \"organism\", \"MLO\"]]\n",
    "df_PhaSepDB_v2_mouse_MLO.columns = [\"UniprotEntry\", \"GeneSymbol\", \"Organism\", \"Body\"]\n",
    "\n",
    "PhaSepDB_v2_condensate_protein_human = []\n",
    "PhaSepDB_v2_condensate_human = np.unique(df_PhaSepDB_v2_human_MLO.loc[:, \"Body\"].values)\n",
    "for condensate in PhaSepDB_v2_condensate_human:\n",
    "    condensate_protein = np.unique(df_PhaSepDB_v2_human_MLO.loc[df_PhaSepDB_v2_human_MLO[\"Body\"] == condensate, \"UniprotEntry\"].dropna().values)\n",
    "    PhaSepDB_v2_condensate_protein_human.append([condensate, condensate_protein])\n",
    "\n",
    "PhaSepDB_v2_condensate_protein_mouse = []\n",
    "PhaSepDB_v2_condensate_mouse = np.unique(df_PhaSepDB_v2_mouse_MLO.loc[:, \"Body\"].values)\n",
    "for condensate in PhaSepDB_v2_condensate_mouse:\n",
    "    condensate_protein = np.unique(df_PhaSepDB_v2_mouse_MLO.loc[df_PhaSepDB_v2_mouse_MLO[\"Body\"] == condensate, \"UniprotEntry\"].dropna().values)\n",
    "    PhaSepDB_v2_condensate_protein_mouse.append([condensate, condensate_protein])\n",
    "    "
   ]
  },
  {
   "attachments": {},
   "cell_type": "markdown",
   "id": "5cc54d66-7a87-412f-8f2d-4ffbc9ffc7fb",
   "metadata": {},
   "source": [
    "### Merge all MLOs"
   ]
  },
  {
   "cell_type": "code",
   "execution_count": 6,
   "id": "75fea134-a521-4dfa-8288-29b904ab2ec1",
   "metadata": {},
   "outputs": [],
   "source": [
    "# show all MLOs\n",
    "DrLLPS_MLOs_human = [condensate for condensate, condensate_protein in DrLLPS_condensate_protein_human]\n",
    "PhaSepDB_MLOs_human = [condensate for condensate, condensate_protein in PhaSepDB_condensate_protein_human]\n",
    "PhaSepDB_v2_MLOs_human = [condensate for condensate, condensate_protein in PhaSepDB_v2_condensate_protein_human]\n",
    "\n",
    "DrLLPS_MLOs_mouse = [condensate for condensate, condensate_protein in DrLLPS_condensate_protein_mouse]\n",
    "PhaSepDB_MLOs_mouse = [condensate for condensate, condensate_protein in PhaSepDB_condensate_protein_mouse]\n",
    "PhaSepDB_v2_MLOs_mouse = [condensate for condensate, condensate_protein in PhaSepDB_v2_condensate_protein_mouse]"
   ]
  },
  {
   "cell_type": "code",
   "execution_count": 9,
   "id": "93ccaa66-0203-4188-b28f-4df49cf7bfcd",
   "metadata": {},
   "outputs": [],
   "source": [
    "dict_MLOs = {\"Balbiani body\" : [\"Balbiani body\"],\n",
    "             \"Cajal body\" : [\"Cajal body\"],\n",
    "             \"Centrosome\" : [\"Centrosome/Spindle pole body\", \"Centrosome\"],\n",
    "             \"Chromatoid body\" : [\"Chromatoid body\"],\n",
    "             \"Cleavage body\" : [\"Cleavage body\"],\n",
    "             \"Cytoplasmic granule\" : [\"Cytoplasmic granule\"],\n",
    "             \"Cytoplasmic ribonucleoprotein granule\": [\"Cytoplasmic ribonucleoprotein granule\"],\n",
    "             \"DDX1 body\" : [\"DDX1 body\"],\n",
    "             \"DNA damage foci\" : [\"DNA damage foci\"],\n",
    "             \"Gem\" : [\"Gem\"],\n",
    "             \"Gemini of cajal body\" : [\"Gemini of cajal body\"],\n",
    "             \"Heterochromatin\" : [\"Heterochromatin\"],\n",
    "             \"Histone locus body\": [\"Histone locus body\", \"Histone Locus body\"],\n",
    "             \"Inflammasome\" : [\"Inflammasome\"],\n",
    "             \"Membrane clusters\" : [\"Membrane clusters\"],\n",
    "             \"miRISC\" : [\"miRISC\"],\n",
    "             \"Microtubule\" : [\"Microtubule\"],\n",
    "            \"Mitochondrial RNA granule\" : [\"Mitochondrial RNA granule\"],\n",
    "            \"Neuronal granule\" : [\"Neuronal granule\"], \n",
    "            \"Neuronal inclusions\": [\"Neuronal inclusions\"], \n",
    "            \"Nuage\" : [\"Nuage\"],\n",
    "            \"Nuclear Compartments\" : [\"Nuclear Compartments\"],\n",
    "            \"Nuclear body\" : [\"Nuclear body\"],\n",
    "            \"Nuclear pore complex\" : [\"Nuclear pore complex\"],\n",
    "            \"Nuclear speckle\" : [\"Nuclear speckle\", \"Nuclear speckles\", \"Nuclues speckles\"],\n",
    "            \"Nuclear stress body\" : [\"Nuclear stress body\"],\n",
    "            \"Nucleolus\" : [\"Nucleolus\"],\n",
    "            \"OPT domain\" : [\"OPT domain\"],\n",
    "            \"P granule\" : [\"P granule\"],\n",
    "            \"P-body\" : [\"P-body\"],\n",
    "            \"PML nuclear body\" : [\"PML nuclear body\", \"PML body\"],\n",
    "            \"Paraspeckle\" : [\"Paraspeckle\"],\n",
    "            \"PcG body\" : [\"PcG body\", \"Polycomb bodies\", \"Polycomb body\"],\n",
    "            \"Pericentriolar matrix\" : [\"Pericentriolar matrix\"],\n",
    "            \"Perinucleolar compartment\" : [\"Perinucleolar compartment\"],\n",
    "            \"Postsynaptic density\" : [\"Postsynaptic density\", \"Pre and postsynaptic densities\", \"Pre and postsynaptic density\"],\n",
    "             \"Receptor cluster\" : [\"Receptor cluster\"],\n",
    "            \"RNP granules\" : [\"RNP granules\", \"IMP1 ribonucleoprotein granule\"],\n",
    "            \"Rosenthal fiber\" : [\"Rosenthal fiber\"],\n",
    "            \"SMN graule\": [\"SMN granule\", \"SMN complex\"],\n",
    "            \"Sam68 nuclear body\" : [\"Sam68 nuclear body\", \"Sam68 nuclear bodies\"],\n",
    "            \"Signaling puncta\" : [\"Signaling puncta\"],\n",
    "            \"Spindle apparatus\" : [\"Spindle apparatus\", \"Spindle pole\"],\n",
    "            \"Splicesome\" : [\"Splicesome\"],\n",
    "            \"Stress granule\" : [\"Stress granule\", \"Sress granule\"],\n",
    "            \"TAU protein\" : [\"TAU protein\"],\n",
    "            \"Transcription Factories\" : [\"Transcription Factories\"],\n",
    "            \"U body\" : [\"U body\"],\n",
    "            \"Z granule\" : [\"Z granule\"]\n",
    "}"
   ]
  },
  {
   "cell_type": "code",
   "execution_count": 10,
   "id": "f6a6a3ba",
   "metadata": {},
   "outputs": [
    {
     "name": "stdout",
     "output_type": "stream",
     "text": [
      "49\n"
     ]
    }
   ],
   "source": [
    "print(len(dict_MLOs))"
   ]
  },
  {
   "attachments": {},
   "cell_type": "markdown",
   "id": "7a3f2a3e",
   "metadata": {},
   "source": [
    "#### stat"
   ]
  },
  {
   "cell_type": "code",
   "execution_count": 19,
   "id": "dcad6d3d-7cdc-42a8-9ccb-b7167c8699be",
   "metadata": {},
   "outputs": [],
   "source": [
    "# human MLOs\n",
    "merged_condensate_protein_human = []\n",
    "for MLO in dict_MLOs:\n",
    "    condensate_proteins = []\n",
    "    for condensate, condensate_protein in DrLLPS_condensate_protein_human:\n",
    "        if condensate in dict_MLOs[MLO]:\n",
    "            condensate_proteins.append(condensate_protein)\n",
    "            break\n",
    "    for condensate, condensate_protein in PhaSepDB_condensate_protein_human:\n",
    "        if condensate in dict_MLOs[MLO]:\n",
    "            condensate_proteins.append(condensate_protein)\n",
    "            break\n",
    "    for condensate, condensate_protein in PhaSepDB_v2_condensate_protein_human:\n",
    "        if condensate in dict_MLOs[MLO]:\n",
    "            condensate_proteins.append(condensate_protein)\n",
    "            break\n",
    "    \n",
    "    if len(condensate_proteins) > 0:\n",
    "        merged_condensate_proteins = np.unique(np.concatenate(condensate_proteins))\n",
    "        merged_condensate_protein_human.append([MLO, merged_condensate_proteins])\n",
    "\n",
    "# mouse MLOs\n",
    "merged_condensate_protein_mouse = []\n",
    "for MLO in dict_MLOs:\n",
    "    condensate_proteins = []\n",
    "    for condensate, condensate_protein in DrLLPS_condensate_protein_mouse:\n",
    "        if condensate in dict_MLOs[MLO]:\n",
    "            condensate_proteins.append(condensate_protein)\n",
    "            break\n",
    "    for condensate, condensate_protein in PhaSepDB_condensate_protein_mouse:\n",
    "        if condensate in dict_MLOs[MLO]:\n",
    "            condensate_proteins.append(condensate_protein)\n",
    "            break\n",
    "    for condensate, condensate_protein in PhaSepDB_v2_condensate_protein_mouse:\n",
    "        if condensate in dict_MLOs[MLO]:\n",
    "            condensate_proteins.append(condensate_protein)\n",
    "            break\n",
    "    \n",
    "    if len(condensate_proteins) > 0:\n",
    "        merged_condensate_proteins = np.unique(np.concatenate(condensate_proteins))\n",
    "        merged_condensate_protein_mouse.append([MLO, merged_condensate_proteins])"
   ]
  },
  {
   "cell_type": "code",
   "execution_count": 22,
   "id": "3751d2b0",
   "metadata": {},
   "outputs": [
    {
     "data": {
      "text/plain": [
       "18"
      ]
     },
     "execution_count": 22,
     "metadata": {},
     "output_type": "execute_result"
    }
   ],
   "source": [
    "len(merged_condensate_protein_mouse)"
   ]
  },
  {
   "cell_type": "code",
   "execution_count": 11,
   "id": "72229700-c9d5-4cbe-baaa-d9efd42a80f9",
   "metadata": {},
   "outputs": [],
   "source": [
    "with open(\"MLO_human_merged.txt\", \"w\") as outf:\n",
    "    outf.write(\"MLO\\tUniprot_IDs\\n\")\n",
    "    for condensate, condensate_protein in merged_condensate_protein_human:\n",
    "        outf.write(\"{0}\\t{1}\\n\" . format(condensate, \",\" . join(condensate_protein)))\n",
    "outf.close()"
   ]
  },
  {
   "cell_type": "code",
   "execution_count": 12,
   "id": "75ae89be",
   "metadata": {},
   "outputs": [],
   "source": [
    "with open(\"MLO_mouse_merged.txt\", \"w\") as outf:\n",
    "    outf.write(\"MLO\\tUniprot_IDs\\n\")\n",
    "    for condensate, condensate_protein in merged_condensate_protein_mouse:\n",
    "        outf.write(\"{0}\\t{1}\\n\" . format(condensate, \",\" . join(condensate_protein)))\n",
    "outf.close()"
   ]
  },
  {
   "attachments": {},
   "cell_type": "markdown",
   "id": "8c7bba40",
   "metadata": {},
   "source": [
    "### Mouse extended (plus human MLO proteins)"
   ]
  },
  {
   "cell_type": "code",
   "execution_count": 3,
   "id": "34a11e43",
   "metadata": {},
   "outputs": [],
   "source": [
    "with open(\"MLO_mouseExtended_merged.txt\", \"w\") as outf:\n",
    "    outf.write(\"MLO\\tUniprot_IDs\\n\")\n",
    "    for condensate, condensate_protein in merged_condensate_protein_human:\n",
    "        condensate_protein_humanToMouse = []\n",
    "        for uniprot_id_human in condensate_protein:\n",
    "            uniprot_id_mouse = humanToMouse_id(uniprot_id_human)\n",
    "            if uniprot_id_mouse != None:\n",
    "                condensate_protein_humanToMouse.append(uniprot_id_mouse)\n",
    "        outf.write(\"{0}\\t{1}\\n\" . format(condensate + \"_HUMAN\", \",\" . join(np.unique(condensate_protein_humanToMouse))))\n",
    "    \n",
    "    for condensate, condensate_protein in merged_condensate_protein_mouse:\n",
    "        outf.write(\"{0}\\t{1}\\n\" . format(condensate, \",\" . join(condensate_protein)))\n",
    "outf.close()"
   ]
  }
 ],
 "metadata": {
  "kernelspec": {
   "display_name": "Python 3 (ipykernel)",
   "language": "python",
   "name": "python3"
  },
  "language_info": {
   "codemirror_mode": {
    "name": "ipython",
    "version": 3
   },
   "file_extension": ".py",
   "mimetype": "text/x-python",
   "name": "python",
   "nbconvert_exporter": "python",
   "pygments_lexer": "ipython3",
   "version": "3.10.6"
  },
  "toc": {
   "base_numbering": 1,
   "nav_menu": {},
   "number_sections": true,
   "sideBar": true,
   "skip_h1_title": false,
   "title_cell": "Table of Contents",
   "title_sidebar": "Contents",
   "toc_cell": false,
   "toc_position": {},
   "toc_section_display": true,
   "toc_window_display": true
  }
 },
 "nbformat": 4,
 "nbformat_minor": 5
}
