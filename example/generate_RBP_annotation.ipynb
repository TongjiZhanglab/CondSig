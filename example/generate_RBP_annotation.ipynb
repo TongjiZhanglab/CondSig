{
 "cells": [
  {
   "cell_type": "code",
   "execution_count": 2,
   "metadata": {},
   "outputs": [],
   "source": [
    "import pandas as pd\n",
    "import subprocess"
   ]
  },
  {
   "attachments": {},
   "cell_type": "markdown",
   "metadata": {},
   "source": [
    "### predicted RNA-binding domain for mouse proteins with ChIP-seq data in Cistrome DB"
   ]
  },
  {
   "cell_type": "code",
   "execution_count": 3,
   "metadata": {},
   "outputs": [
    {
     "name": "stdout",
     "output_type": "stream",
     "text": [
      "#!/bin/bash\n",
      "\n",
      "~/software/TriPepSVM-master/TriPepSVM.sh -i ${1} -o Results/ -pos 1.8 -neg 0.2 -thr 0.28\n"
     ]
    }
   ],
   "source": [
    "%%bash\n",
    "\n",
    "head -100 tripep_prediction.sh\n",
    "bash tripep_prediction.sh ../ProteinSequence/mouse_proteome.fasta"
   ]
  },
  {
   "cell_type": "code",
   "execution_count": 3,
   "metadata": {},
   "outputs": [],
   "source": [
    "# RNA-binding protein by TripepSVM\n",
    "\n",
    "df_mouse_TriPepSVM = pd.read_csv(\"Results/mouse_proteome.TriPepSVM.pred.txt\", header = None, sep = \"\\t\")\n",
    "df_mouse_TriPepSVM_RBP = df_mouse_TriPepSVM.loc[df_mouse_TriPepSVM[2] == \"RNA-binding protein\", :]\n",
    "mouse_TriPepSVM_RBP_uids = list(map(lambda x:x.split(\"|\")[1], df_mouse_TriPepSVM_RBP.iloc[:,0].values))\n",
    "mouse_TriPepSVM_RBP_proteins = list(map(lambda x:x.split(\"|\")[2], df_mouse_TriPepSVM_RBP.iloc[:,0].values))\n",
    "\n",
    "df_mouse_TriPepSVM_RBP_labeled = pd.DataFrame([mouse_TriPepSVM_RBP_uids, mouse_TriPepSVM_RBP_proteins, df_mouse_TriPepSVM_RBP.iloc[:, 1].values, df_mouse_TriPepSVM_RBP.iloc[:, 2].values]).T\n",
    "df_mouse_TriPepSVM_RBP_labeled.columns = [\"uid\", \"protein\", \"score\", \"status\"]\n",
    "df_mouse_TriPepSVM_RBP_labeled.head()\n",
    "df_mouse_TriPepSVM_RBP_labeled.to_csv(\"mouse_TriPepSVM_RBP.txt\", header = True, sep = \"\\t\", index = False)\n"
   ]
  },
  {
   "attachments": {},
   "cell_type": "markdown",
   "metadata": {},
   "source": [
    "### predicted RNA-binding domain for human proteins with ChIP-seq data in Cistrome DB"
   ]
  },
  {
   "cell_type": "code",
   "execution_count": 4,
   "metadata": {},
   "outputs": [],
   "source": [
    "%%bash\n",
    "\n",
    "bash tripep_prediction.sh ../ProteinSequence/human_proteome.fasta"
   ]
  },
  {
   "cell_type": "code",
   "execution_count": 5,
   "metadata": {},
   "outputs": [],
   "source": [
    "df_human_TriPepSVM = pd.read_csv(\"Results/human_proteome.TriPepSVM.pred.txt\", header = None, sep = \"\\t\")\n",
    "df_human_TriPepSVM_RBP = df_human_TriPepSVM.loc[df_human_TriPepSVM[2] == \"RNA-binding protein\", :]\n",
    "human_TriPepSVM_RBP_uids = list(map(lambda x:x.split(\"|\")[1], df_human_TriPepSVM_RBP.iloc[:,0].values))\n",
    "human_TriPepSVM_RBP_proteins = list(map(lambda x:x.split(\"|\")[2], df_human_TriPepSVM_RBP.iloc[:,0].values))\n",
    "\n",
    "df_human_TriPepSVM_RBP_labeled = pd.DataFrame([human_TriPepSVM_RBP_uids, human_TriPepSVM_RBP_proteins, df_human_TriPepSVM_RBP.iloc[:, 1].values, df_human_TriPepSVM_RBP.iloc[:, 2].values]).T\n",
    "df_human_TriPepSVM_RBP_labeled.columns = [\"uid\", \"protein\", \"score\", \"status\"]\n",
    "df_human_TriPepSVM_RBP_labeled.head()\n",
    "df_human_TriPepSVM_RBP_labeled.to_csv(\"human_TriPepSVM_RBP.txt\", header = True, sep = \"\\t\", index = False)\n"
   ]
  },
  {
   "attachments": {},
   "cell_type": "markdown",
   "metadata": {},
   "source": [
    "### stat"
   ]
  },
  {
   "cell_type": "code",
   "execution_count": 13,
   "metadata": {},
   "outputs": [],
   "source": [
    "df_mouse_TriPepSVM = pd.read_csv(\"Results/mouse_proteome.TriPepSVM.pred.txt\", header = None, sep = \"\\t\")\n",
    "df_human_TriPepSVM = pd.read_csv(\"Results/human_proteome.TriPepSVM.pred.txt\", header = None, sep = \"\\t\")\n",
    "\n",
    "mouse_RBP = sum(df_mouse_TriPepSVM[2] == \"RNA-binding protein\")\n",
    "mouse_nonRBP = sum(df_mouse_TriPepSVM[2] == \"Non RNA-binding protein\")\n",
    "\n",
    "human_RBP = sum(df_human_TriPepSVM[2] == \"RNA-binding protein\")\n",
    "human_nonRBP = sum(df_human_TriPepSVM[2] == \"Non RNA-binding protein\")"
   ]
  },
  {
   "cell_type": "code",
   "execution_count": 12,
   "metadata": {},
   "outputs": [
    {
     "data": {
      "text/html": [
       "<div>\n",
       "<style scoped>\n",
       "    .dataframe tbody tr th:only-of-type {\n",
       "        vertical-align: middle;\n",
       "    }\n",
       "\n",
       "    .dataframe tbody tr th {\n",
       "        vertical-align: top;\n",
       "    }\n",
       "\n",
       "    .dataframe thead th {\n",
       "        text-align: right;\n",
       "    }\n",
       "</style>\n",
       "<table border=\"1\" class=\"dataframe\">\n",
       "  <thead>\n",
       "    <tr style=\"text-align: right;\">\n",
       "      <th></th>\n",
       "      <th>0</th>\n",
       "      <th>1</th>\n",
       "      <th>2</th>\n",
       "    </tr>\n",
       "  </thead>\n",
       "  <tbody>\n",
       "    <tr>\n",
       "      <th>0</th>\n",
       "      <td>tr|A0A023UED4|A0A023UED4_MOUSE</td>\n",
       "      <td>0.332242</td>\n",
       "      <td>RNA-binding protein</td>\n",
       "    </tr>\n",
       "    <tr>\n",
       "      <th>1</th>\n",
       "      <td>tr|A0A023UF19|A0A023UF19_MOUSE</td>\n",
       "      <td>-0.265671</td>\n",
       "      <td>Non RNA-binding protein</td>\n",
       "    </tr>\n",
       "    <tr>\n",
       "      <th>2</th>\n",
       "      <td>sp|A0A087WPF7|AUTS2_MOUSE</td>\n",
       "      <td>0.253345</td>\n",
       "      <td>Non RNA-binding protein</td>\n",
       "    </tr>\n",
       "    <tr>\n",
       "      <th>3</th>\n",
       "      <td>tr|A0A087WPK9|A0A087WPK9_MOUSE</td>\n",
       "      <td>0.700812</td>\n",
       "      <td>RNA-binding protein</td>\n",
       "    </tr>\n",
       "    <tr>\n",
       "      <th>4</th>\n",
       "      <td>tr|A0A087WQX6|A0A087WQX6_MOUSE</td>\n",
       "      <td>0.708250</td>\n",
       "      <td>RNA-binding protein</td>\n",
       "    </tr>\n",
       "    <tr>\n",
       "      <th>...</th>\n",
       "      <td>...</td>\n",
       "      <td>...</td>\n",
       "      <td>...</td>\n",
       "    </tr>\n",
       "    <tr>\n",
       "      <th>804</th>\n",
       "      <td>sp|Q9Z2D8|MBD3_MOUSE</td>\n",
       "      <td>0.639473</td>\n",
       "      <td>RNA-binding protein</td>\n",
       "    </tr>\n",
       "    <tr>\n",
       "      <th>805</th>\n",
       "      <td>sp|Q9Z2E1|MBD2_MOUSE</td>\n",
       "      <td>0.901391</td>\n",
       "      <td>RNA-binding protein</td>\n",
       "    </tr>\n",
       "    <tr>\n",
       "      <th>806</th>\n",
       "      <td>sp|Q9Z2E2|MBD1_MOUSE</td>\n",
       "      <td>-0.620084</td>\n",
       "      <td>Non RNA-binding protein</td>\n",
       "    </tr>\n",
       "    <tr>\n",
       "      <th>807</th>\n",
       "      <td>sp|Q9Z2F6|BCL3_MOUSE</td>\n",
       "      <td>-0.492388</td>\n",
       "      <td>Non RNA-binding protein</td>\n",
       "    </tr>\n",
       "    <tr>\n",
       "      <th>808</th>\n",
       "      <td>sp|Q9Z2U4|ELF4_MOUSE</td>\n",
       "      <td>-1.204061</td>\n",
       "      <td>Non RNA-binding protein</td>\n",
       "    </tr>\n",
       "  </tbody>\n",
       "</table>\n",
       "<p>809 rows × 3 columns</p>\n",
       "</div>"
      ],
      "text/plain": [
       "                                  0         1                        2\n",
       "0    tr|A0A023UED4|A0A023UED4_MOUSE  0.332242      RNA-binding protein\n",
       "1    tr|A0A023UF19|A0A023UF19_MOUSE -0.265671  Non RNA-binding protein\n",
       "2         sp|A0A087WPF7|AUTS2_MOUSE  0.253345  Non RNA-binding protein\n",
       "3    tr|A0A087WPK9|A0A087WPK9_MOUSE  0.700812      RNA-binding protein\n",
       "4    tr|A0A087WQX6|A0A087WQX6_MOUSE  0.708250      RNA-binding protein\n",
       "..                              ...       ...                      ...\n",
       "804            sp|Q9Z2D8|MBD3_MOUSE  0.639473      RNA-binding protein\n",
       "805            sp|Q9Z2E1|MBD2_MOUSE  0.901391      RNA-binding protein\n",
       "806            sp|Q9Z2E2|MBD1_MOUSE -0.620084  Non RNA-binding protein\n",
       "807            sp|Q9Z2F6|BCL3_MOUSE -0.492388  Non RNA-binding protein\n",
       "808            sp|Q9Z2U4|ELF4_MOUSE -1.204061  Non RNA-binding protein\n",
       "\n",
       "[809 rows x 3 columns]"
      ]
     },
     "execution_count": 12,
     "metadata": {},
     "output_type": "execute_result"
    }
   ],
   "source": [
    "df_mouse_TriPepSVM"
   ]
  },
  {
   "cell_type": "code",
   "execution_count": 32,
   "metadata": {},
   "outputs": [
    {
     "name": "stdout",
     "output_type": "stream",
     "text": [
      "806 924 336 473\n"
     ]
    }
   ],
   "source": [
    "print(human_RBP, human_nonRBP, mouse_RBP, mouse_nonRBP)"
   ]
  }
 ],
 "metadata": {
  "kernelspec": {
   "display_name": "Python 3 (ipykernel)",
   "language": "python",
   "name": "python3"
  },
  "language_info": {
   "codemirror_mode": {
    "name": "ipython",
    "version": 3
   },
   "file_extension": ".py",
   "mimetype": "text/x-python",
   "name": "python",
   "nbconvert_exporter": "python",
   "pygments_lexer": "ipython3",
   "version": "3.10.6"
  },
  "toc": {
   "base_numbering": 1,
   "nav_menu": {},
   "number_sections": true,
   "sideBar": true,
   "skip_h1_title": false,
   "title_cell": "Table of Contents",
   "title_sidebar": "Contents",
   "toc_cell": false,
   "toc_position": {},
   "toc_section_display": true,
   "toc_window_display": false
  }
 },
 "nbformat": 4,
 "nbformat_minor": 4
}
